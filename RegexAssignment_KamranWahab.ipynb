{
 "cells": [
  {
   "cell_type": "markdown",
   "id": "366da707",
   "metadata": {
    "id": "b830b03e"
   },
   "source": [
    "# Kamran Wahab\n",
    "## Assignment No. 4\n",
    "### Advanced Regular Expression Assignments"
   ]
  },
  {
   "cell_type": "markdown",
   "id": "09ad4f60",
   "metadata": {
    "id": "dbeb14e1"
   },
   "source": [
    "**Assignment 1: Extracting Phone Numbers**\n",
    "\n",
    "**Raw Text:** Extract all valid Pakistani phone numbers from a given text.\n",
    "\n",
    "**Example:**\n",
    "\n",
    " Text: Please contact me at 0301-1234567 or 042-35678901 for further details."
   ]
  },
  {
   "cell_type": "code",
   "execution_count": 1,
   "id": "646145ce",
   "metadata": {},
   "outputs": [
    {
     "data": {
      "text/plain": [
       "['0301-1234567', '042-35678901']"
      ]
     },
     "execution_count": 1,
     "metadata": {},
     "output_type": "execute_result"
    }
   ],
   "source": [
    "import re\n",
    "\n",
    "Text =\"\"\"Please contact me at 0301-1234567 or 042-35678901 for further details.\"\"\"\n",
    "\n",
    "pattern =  r\"\\d{1,4}-\\d{1,8}\"\n",
    "\n",
    "re.findall(pattern,Text,re.MULTILINE)"
   ]
  },
  {
   "cell_type": "markdown",
   "id": "dd34fb2f",
   "metadata": {
    "id": "dd34fb2f"
   },
   "source": [
    "### Assignment 2: Validating Email Addresses\n",
    "\n",
    "**Raw Text:**\n",
    "Validate email addresses according to Pakistani domain extensions (.pk).\n",
    "\n",
    "**Example:**\n",
    "```\n",
    "Text: Contact us at info@example.com or support@domain.pk for assistance.\n",
    "```\n",
    "\n"
   ]
  },
  {
   "cell_type": "code",
   "execution_count": 2,
   "id": "64cf6883",
   "metadata": {
    "id": "64cf6883"
   },
   "outputs": [
    {
     "name": "stdout",
     "output_type": "stream",
     "text": [
      "['info@example.com', 'support@domain.pk']\n",
      "['support@domain.pk']\n"
     ]
    }
   ],
   "source": [
    "Text = \"\"\"Contact us at info@example.com  or support@domain.pk for assistance.\"\"\"\n",
    "\n",
    "\n",
    "pattern1 = r'\\b[A-Za-z0-9._%+-]+@[A-Za-z0-9.-]+\\.[A-Z|a-z]{2,7}\\b'\n",
    "pattern2 = r'\\b[A-Za-z0-9._%+-]+@[A-Za-z0-9.-]+.[pk|PK]\\b'\n",
    "\n",
    "print(re.findall(pattern1,Text,re.MULTILINE))\n",
    "print(re.findall(pattern2,Text,re.MULTILINE))"
   ]
  },
  {
   "cell_type": "markdown",
   "id": "0bd2f6f3",
   "metadata": {
    "id": "0bd2f6f3"
   },
   "source": [
    "### Assignment 3: Extracting CNIC Numbers\n",
    "\n",
    "**Raw Text:**\n",
    "Extract all Pakistani CNIC (Computerized National Identity Card) numbers from a given text.\n",
    "\n",
    "**Example:**\n",
    "```\n",
    "Text: My CNIC is 12345-6789012-3 and another one is 34567-8901234-5.\n",
    "```\n"
   ]
  },
  {
   "cell_type": "code",
   "execution_count": 3,
   "id": "b825834e",
   "metadata": {
    "id": "b825834e"
   },
   "outputs": [
    {
     "name": "stdout",
     "output_type": "stream",
     "text": [
      "['12345-6789012-3', '34567-8901234-5']\n"
     ]
    }
   ],
   "source": [
    "Text = \"\"\"My CNIC is 12345-6789012-3 and another one is 34567-8901234-5.\"\"\"\n",
    "\n",
    "pattern = r\"\\d{0,5}-\\d{0,7}-\\d{0,9}\"\n",
    "print(re.findall(pattern,Text,re.MULTILINE))"
   ]
  },
  {
   "cell_type": "markdown",
   "id": "f21a0a2f",
   "metadata": {
    "id": "f21a0a2f"
   },
   "source": [
    "\n",
    "### Assignment 4: Identifying Urdu Words\n",
    "\n",
    "**Raw Text:**\n",
    "Identify and extract Urdu words from a mixed English-Urdu text.\n",
    "\n",
    "**Example:**\n",
    "```\n",
    "Text: یہ sentence میں کچھ English words بھی ہیں۔\n",
    "```\n",
    "\n"
   ]
  },
  {
   "cell_type": "code",
   "execution_count": 4,
   "id": "b4263cfb",
   "metadata": {
    "id": "b4263cfb"
   },
   "outputs": [
    {
     "data": {
      "text/plain": [
       "['یہ ', ' میں کچھ ', ' ', ' بھی ہیں']"
      ]
     },
     "execution_count": 4,
     "metadata": {},
     "output_type": "execute_result"
    }
   ],
   "source": [
    "Text = \"\"\"یہ sentence میں کچھ English words بھی ہیں۔\n",
    "\"\"\"\n",
    "pattern= r'\\b[^s]+\\b'\n",
    "\n",
    "re.findall(pattern,Text,re.MULTILINE)"
   ]
  },
  {
   "cell_type": "markdown",
   "id": "421405e8",
   "metadata": {
    "id": "421405e8"
   },
   "source": [
    "### Assignment 5: Finding Dates\n",
    "\n",
    "**Raw Text:**\n",
    "Find and extract dates in the format DD-MM-YYYY from a given text.\n",
    "\n",
    "**Example:**\n",
    "```\n",
    "Text: The event will take place on 15-08-2023 and 23-09-2023.\n",
    "```\n",
    "\n"
   ]
  },
  {
   "cell_type": "code",
   "execution_count": 5,
   "id": "c2f9d8bf",
   "metadata": {
    "id": "c2f9d8bf"
   },
   "outputs": [
    {
     "data": {
      "text/plain": [
       "['15-08-2023', '23-09-2023']"
      ]
     },
     "execution_count": 5,
     "metadata": {},
     "output_type": "execute_result"
    }
   ],
   "source": [
    "Text = \"\"\"The event will take place on 15-08-2023 and 23-09-2023.\"\"\"\n",
    "\n",
    "pattern =  r\"\\d{1,2}-\\d{1,8}-\\d{1,4}\"\n",
    "\n",
    "re.findall(pattern,Text,re.MULTILINE)"
   ]
  },
  {
   "cell_type": "markdown",
   "id": "6b817815",
   "metadata": {
    "id": "6b817815"
   },
   "source": [
    "### Assignment 6: Extracting URLs\n",
    "\n",
    "**Raw Text:**\n",
    "Extract all URLs from a text that belong to Pakistani domains.\n",
    "\n",
    "**Example:**\n",
    "```\n",
    "Text: Visit http://www.example.pk or https://website.com.pk for more information.\n",
    "```\n",
    "\n"
   ]
  },
  {
   "cell_type": "code",
   "execution_count": 6,
   "id": "c2ba10ac",
   "metadata": {
    "id": "c2ba10ac"
   },
   "outputs": [
    {
     "data": {
      "text/plain": [
       "['http://www.example.pk', 'https://website.com.pk']"
      ]
     },
     "execution_count": 6,
     "metadata": {},
     "output_type": "execute_result"
    }
   ],
   "source": [
    "Text =\"\"\" Visit http://www.example.pk or https://website.com.pk for more information.\"\"\"\n",
    "\n",
    "pattern= r'(https?://\\S+)'\n",
    "re.findall(pattern,Text,re.MULTILINE)"
   ]
  },
  {
   "cell_type": "markdown",
   "id": "7ff1dc07",
   "metadata": {
    "id": "7ff1dc07"
   },
   "source": [
    "### Assignment 7: Analyzing Currency\n",
    "\n",
    "**Raw Text:**\n",
    "Extract and analyze currency amounts in Pakistani Rupees (PKR) from a given text.\n",
    "\n",
    "**Example:**\n",
    "```\n",
    "Text: The product costs PKR 1500, while the deluxe version is priced at Rs. 2500.\n",
    "```\n",
    "\n"
   ]
  },
  {
   "cell_type": "code",
   "execution_count": 7,
   "id": "28769652",
   "metadata": {
    "id": "28769652"
   },
   "outputs": [
    {
     "data": {
      "text/plain": [
       "['PKR 1500', 'Rs. 2500']"
      ]
     },
     "execution_count": 7,
     "metadata": {},
     "output_type": "execute_result"
    }
   ],
   "source": [
    "Text =\"\"\"The product costs PKR 1500, while the deluxe version is priced at Rs. 2500\"\"\"\n",
    "\n",
    "pattern= r\"....[0-9]+\"\n",
    "\n",
    "re.findall(pattern,Text,re.MULTILINE)"
   ]
  },
  {
   "cell_type": "markdown",
   "id": "651c8b5d",
   "metadata": {
    "id": "651c8b5d"
   },
   "source": [
    "### Assignment 8: Removing Punctuation\n",
    "\n",
    "**Raw Text:**\n",
    "Remove all punctuation marks from a text while preserving Urdu characters.\n",
    "\n",
    "**Example:**\n",
    "```\n",
    "Text: کیا! آپ, یہاں؟\n",
    "```\n",
    "\n"
   ]
  },
  {
   "cell_type": "code",
   "execution_count": 11,
   "id": "96350bf0",
   "metadata": {
    "id": "96350bf0"
   },
   "outputs": [
    {
     "name": "stdout",
     "output_type": "stream",
     "text": [
      "کیا آپ یہاں\n"
     ]
    }
   ],
   "source": [
    "Text =\"\"\"کیا! آپ, یہاں؟\"\"\"\n",
    "\n",
    "pattern = re.sub(r'[^\\w\\s]',\"\", Text)\n",
    "print(pattern)"
   ]
  },
  {
   "cell_type": "markdown",
   "id": "8cc27684",
   "metadata": {
    "id": "8cc27684"
   },
   "source": [
    "### Assignment 9: Extracting City Names\n",
    "\n",
    "**Raw Text:**\n",
    "Extract names of Pakistani cities from a given text.\n",
    "\n",
    "**Example:**\n",
    "```\n",
    "Text: Lahore, Karachi, Islamabad, and Peshawar are major cities of Pakistan.\n",
    "```\n"
   ]
  },
  {
   "cell_type": "code",
   "execution_count": 9,
   "id": "a81035ed",
   "metadata": {
    "id": "a81035ed"
   },
   "outputs": [
    {
     "name": "stdout",
     "output_type": "stream",
     "text": [
      "[('Lahore, Karachi, Islamabad,', 'Peshawar')]\n"
     ]
    }
   ],
   "source": [
    "Text=  \"\"\"Lahore, Karachi, Islamabad, and Peshawar are major cities of Pakistan.\"\"\"\n",
    "pattern = r'(\\b.+,).+(\\bP.+ar\\b)'\n",
    "\n",
    "\n",
    "\n",
    "print(re.findall(pattern,Text,re.MULTILINE))"
   ]
  },
  {
   "cell_type": "markdown",
   "id": "219b6c4c",
   "metadata": {
    "id": "219b6c4c"
   },
   "source": [
    "\n",
    "### Assignment 10: Analyzing Vehicle Numbers\n",
    "\n",
    "**Raw Text:**\n",
    "Identify and extract Pakistani vehicle registration numbers (e.g., ABC-123) from a text.\n",
    "\n",
    "**Example:**\n",
    "```\n",
    "Text: I saw a car with the number plate LEA-567 near the market.\n",
    "```\n",
    "\n"
   ]
  },
  {
   "cell_type": "code",
   "execution_count": 10,
   "id": "33e1e5ba",
   "metadata": {
    "id": "33e1e5ba"
   },
   "outputs": [
    {
     "name": "stdout",
     "output_type": "stream",
     "text": [
      "['LEA-567']\n"
     ]
    }
   ],
   "source": [
    "Text = \"\"\" I saw a car with the number plate LEA-567 near the market.\"\"\"\n",
    "\n",
    "pattern = r'(....\\d+)'\n",
    "\n",
    "print(re.findall(pattern,Text,re.MULTILINE))"
   ]
  }
 ],
 "metadata": {
  "colab": {
   "provenance": []
  },
  "kernelspec": {
   "display_name": "Python 3 (ipykernel)",
   "language": "python",
   "name": "python3"
  },
  "language_info": {
   "codemirror_mode": {
    "name": "ipython",
    "version": 3
   },
   "file_extension": ".py",
   "mimetype": "text/x-python",
   "name": "python",
   "nbconvert_exporter": "python",
   "pygments_lexer": "ipython3",
   "version": "3.11.4"
  }
 },
 "nbformat": 4,
 "nbformat_minor": 5
}
