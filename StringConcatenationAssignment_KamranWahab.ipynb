{
 "cells": [
  {
   "cell_type": "markdown",
   "id": "ceee1755",
   "metadata": {},
   "source": [
    "# Kamran Wahab\n",
    "# Assignment No. 2"
   ]
  },
  {
   "cell_type": "code",
   "execution_count": 20,
   "id": "a32ab4bb",
   "metadata": {},
   "outputs": [
    {
     "name": "stdout",
     "output_type": "stream",
     "text": [
      "My Name is Kamran I am 26 years old  and I live in Lahore\n"
     ]
    }
   ],
   "source": [
    "#Task 1:- Print the concatenated sentence using + operator\n",
    "\n",
    "name = \"Kamran\"\n",
    "age =   26\n",
    "country = \"Pakistan\"\n",
    "\n",
    "Introuction = \"My Name is \" + str(name) + \" I am \" + str(age) + \" years old \" + \" and I live in \" + str(city)\n",
    "\n",
    "\n",
    "print (Introuction)"
   ]
  },
  {
   "cell_type": "code",
   "execution_count": 19,
   "id": "7307c730",
   "metadata": {},
   "outputs": [
    {
     "name": "stdout",
     "output_type": "stream",
     "text": [
      "I bought 4 laptop(s) at 250000 each, for a total of 1000000.\n"
     ]
    }
   ],
   "source": [
    "#Task 2:- String Formatting using `.format()`\n",
    "\n",
    "item = \"laptop\"\n",
    "price = 250000\n",
    "units = 4\n",
    "total_cost   =  price * units\n",
    "\n",
    "format_string = \"I bought {2} {0}(s) at {1} each, for a total of {3}.\".format(item,price,units,total_cost)\n",
    "\n",
    "print (format_string)"
   ]
  },
  {
   "cell_type": "code",
   "execution_count": 7,
   "id": "a4f81d25",
   "metadata": {},
   "outputs": [
    {
     "name": "stdout",
     "output_type": "stream",
     "text": [
      "The temperature in Lahore is 38° C.\n"
     ]
    }
   ],
   "source": [
    "#Task 3:- String Interpolation using `f''`\n",
    "city = \"Lahore\"\n",
    "temperature_c = 38\n",
    "\n",
    "\n",
    "format_string = f\"\"\"The temperature in {city} is {temperature_c}° C.\"\"\"\n",
    "\n",
    "print (format_string)"
   ]
  },
  {
   "cell_type": "code",
   "execution_count": 8,
   "id": "1c6565eb",
   "metadata": {},
   "outputs": [
    {
     "name": "stdout",
     "output_type": "stream",
     "text": [
      "My name is Kamran Wahab . I am 26 years old.\n"
     ]
    }
   ],
   "source": [
    "#Task 4:- String Formatting using `%()`\n",
    "\n",
    "import datetime\n",
    "from datetime import datetime\n",
    "\n",
    "first_name = \"Kamran\"\n",
    "last_name = \"Wahab\"\n",
    "birth_year = 1997\n",
    "current_year = datetime.now().year\n",
    "age =  current_year - birth_year\n",
    "\n",
    "string_format = \"My name is %s %s . I am %d years old.\"%(first_name,last_name,age)\n",
    "print (string_format)"
   ]
  },
  {
   "cell_type": "code",
   "execution_count": 15,
   "id": "d8898eb1",
   "metadata": {},
   "outputs": [
    {
     "name": "stdout",
     "output_type": "stream",
     "text": [
      "\n",
      "Product Name:\t\tPlay Station\n",
      "Discount%:\t\t15\n",
      "Orignal Price:\t\t250000\n",
      "Discounted Price:\t212500.0\n"
     ]
    }
   ],
   "source": [
    "#Task 5:- Combining Formatting Methods using `+' operator\n",
    "\n",
    "product_name = \"Play Station\"\n",
    "disc = 15\n",
    "orignal_price = 250000\n",
    "discount_price = orignal_price * (1-disc/100)\n",
    "\n",
    "descriptive_string1 = \"\\nProduct Name:\\t\\t\" +  str(product_name)+\\\n",
    "\"\\nDiscount%:\\t\\t\" + str(disc) + \"\\nOrignal Price:\\t\\t\" + str(orignal_price)+\\\n",
    "\"\\nDiscounted Price:\\t\"+ str(discount_price)\n",
    "\n",
    "print (descriptive_string1)"
   ]
  },
  {
   "cell_type": "code",
   "execution_count": 16,
   "id": "a3c15f6e",
   "metadata": {},
   "outputs": [
    {
     "name": "stdout",
     "output_type": "stream",
     "text": [
      "\n",
      "Product Name:\t\tPlay Station\n",
      "Discount % :\t\t15\n",
      "Orignal Price:\t\t250000\n",
      "Discounted Price:\t212500.0\n"
     ]
    }
   ],
   "source": [
    "#Task 5:- Combining Formatting Methods using .format()`\n",
    "\n",
    "product_name = \"Play Station\"\n",
    "disc = 15\n",
    "orignal_price = 250000\n",
    "discount_price = orignal_price * (1-disc/100)\n",
    "\n",
    "descriptive_string1 = \"\\nProduct Name:\\t\\t{}\"\\\n",
    "\"\\nDiscount % :\\t\\t{}\"  \"\\nOrignal Price:\\t\\t{}\"\\\n",
    "\"\\nDiscounted Price:\\t{}\".format(product_name,disc,orignal_price,discount_price)\n",
    "\n",
    "print (descriptive_string1)"
   ]
  },
  {
   "cell_type": "code",
   "execution_count": 17,
   "id": "adf9b471",
   "metadata": {},
   "outputs": [
    {
     "name": "stdout",
     "output_type": "stream",
     "text": [
      "Product Name:\t\tPlay Station \n",
      "Discount :\t\t15 \n",
      "Orignal Price:\t\t250000 \n",
      "Discounted Price:\t212500\n"
     ]
    }
   ],
   "source": [
    "#Task 5:- Combining Formatting Methods using .%()''``\n",
    "\n",
    "product_name = \"Play Station\"\n",
    "disc = 15\n",
    "orignal_price = 250000\n",
    "discount_price = orignal_price * (1-disc/100)\n",
    "\n",
    "descriptive_string1 =\"Product Name:\\t\\t%s \\nDiscount :\\t\\t%d \\nOrignal Price:\\t\\t%d \\nDiscounted Price:\\t%d\"%(product_name,disc,orignal_price,discount_price)\n",
    "\n",
    "print (descriptive_string1)"
   ]
  },
  {
   "cell_type": "code",
   "execution_count": 14,
   "id": "2463d093",
   "metadata": {},
   "outputs": [
    {
     "name": "stdout",
     "output_type": "stream",
     "text": [
      "\n",
      "Product Name :\t\tPlay Station\n",
      "Discount %:\t\t15\n",
      "Orignal Price:\t\t250000\n",
      "Discounted Price:\t212500.0\n"
     ]
    }
   ],
   "source": [
    "#Task 5:- Combining Formatting Methods using .f''``\n",
    "\n",
    "product_name = \"Play Station\"\n",
    "disc = 15\n",
    "orignal_price = 250000\n",
    "discount_price = orignal_price * (1-disc/100)\n",
    "\n",
    "descriptive_string1 = f\"\"\"\n",
    "Product Name :\\t\\t{product_name}\n",
    "Discount %:\\t\\t{disc}\n",
    "Orignal Price:\\t\\t{orignal_price}\n",
    "Discounted Price:\\t{discount_price}\"\"\"\n",
    "\n",
    "print(descriptive_string1)"
   ]
  }
 ],
 "metadata": {
  "kernelspec": {
   "display_name": "Python 3 (ipykernel)",
   "language": "python",
   "name": "python3"
  },
  "language_info": {
   "codemirror_mode": {
    "name": "ipython",
    "version": 3
   },
   "file_extension": ".py",
   "mimetype": "text/x-python",
   "name": "python",
   "nbconvert_exporter": "python",
   "pygments_lexer": "ipython3",
   "version": "3.11.4"
  }
 },
 "nbformat": 4,
 "nbformat_minor": 5
}
