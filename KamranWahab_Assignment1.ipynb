{
 "cells": [
  {
   "cell_type": "markdown",
   "id": "17c4e3a0",
   "metadata": {},
   "source": [
    "# Kamran Wahab\n",
    "# Assignment No. 1"
   ]
  },
  {
   "cell_type": "markdown",
   "id": "5e6b5e87",
   "metadata": {},
   "source": [
    "# Five (5) Methods\n",
    "\n",
    "1-HELLO WORLD WITH \"ANACONDA PROMT/CMD\n",
    "2-HELLO WORLD WITH \"JUPYTER NOTEBOOK\"\n",
    "3-HELLO WORLD WITH \"VS CODE\"\n",
    "4-HELLO WORLD WITH \"GOOGLE COLAB\n",
    "5-HELLO WORLD WITH \"NOTEPAD FILE\""
   ]
  },
  {
   "cell_type": "markdown",
   "id": "87695af8",
   "metadata": {},
   "source": [
    "    # Method 1:\n",
    "\n",
    "(base) E:\\python assingment 1.py>python\n",
    "Python 3.11.3 | packaged by Anaconda, Inc. | (main, Sep 13 2023, 21:46:31) [MSC v.1916 64 bit (AMD64)] on win32\n",
    "Type \"help\", \"copyright\", \"credits\" or \"license\" for more information.\n",
    ">>> print(\"hello world\")\n",
    "hello world\n",
    ">>> print(\"Pakistan zindabad\")\n",
    "pakistan zindabad\n",
    ">>> print(\"NED university\")\n",
    "NED university\n",
    ">>>"
   ]
  },
  {
   "cell_type": "markdown",
   "id": "82d27bd3",
   "metadata": {},
   "source": [
    "    # Method 2:\n",
    "\n",
    "print(\"hello world\")\n",
    "print(\"Pakistan zindabad\")\n",
    "print(\"NED university\")\n",
    "\n",
    "(base) E:\\>cd E:\\python assingment 1.py\n",
    "\n",
    "(base) E:\\python assingment 1.py>python method2.py\n",
    "hello world\n",
    "Pakistan zindabad\n",
    "NED university"
   ]
  },
  {
   "cell_type": "markdown",
   "id": "7340e64d",
   "metadata": {},
   "source": [
    "    # Method 3:\n",
    "\n",
    "print(\"hello world\")\n",
    "print(\"Pakistan zindabad\")\n",
    "print(\"NED university\")\n",
    "\n",
    "Windows PowerShell\n",
    "Copyright (C) Microsoft Corporation. All rights reserved.\n",
    "\n",
    "Try the new cross-platform PowerShell https://aka.ms/pscore6\n",
    "\n",
    "PS E:\\python assingment 1.py>  & 'C:\\ProgramData\\anaconda3\\python.exe' 'c:\\Users\\kamran wahab\\.vscode\\extensions\\ms-python.python-2023.12.0\\pythonFiles\\lib\\python\\debugpy\\adapter/../..\\debugpy\\launcher' '54889' '--' 'E:\\python assingment 1.py\\assignment vs.py'\n",
    "hello world\n",
    "Pakistan zindabad\n",
    "NED university  \n",
    "PS E:\\python assingment 1.py>"
   ]
  },
  {
   "cell_type": "markdown",
   "id": "d709ac4a",
   "metadata": {},
   "source": [
    "    # Method 4:\n",
    "\n",
    "new file in vs code 'assingment1.ipynb'\n",
    "\n",
    "hello world\n",
    "pakistan zindabad\n",
    "NED university"
   ]
  },
  {
   "cell_type": "markdown",
   "id": "7b43fdd7",
   "metadata": {},
   "source": [
    "    # Method 5:\n",
    "\n",
    "hello world\n",
    "[2]\n",
    "0s\n",
    "print(\"Ned university\")\n",
    "Ned university\n",
    "[4]\n",
    "0s\n",
    "print(\"Pakistan zindabad\")\n",
    "Pakistan zindabad"
   ]
  }
 ],
 "metadata": {
  "kernelspec": {
   "display_name": "Python 3 (ipykernel)",
   "language": "python",
   "name": "python3"
  },
  "language_info": {
   "codemirror_mode": {
    "name": "ipython",
    "version": 3
   },
   "file_extension": ".py",
   "mimetype": "text/x-python",
   "name": "python",
   "nbconvert_exporter": "python",
   "pygments_lexer": "ipython3",
   "version": "3.11.4"
  }
 },
 "nbformat": 4,
 "nbformat_minor": 5
}
