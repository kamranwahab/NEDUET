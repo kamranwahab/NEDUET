{
 "cells": [
  {
   "cell_type": "markdown",
   "id": "e9d76b3d",
   "metadata": {},
   "source": [
    "# Kamran Wahab\n",
    "# Assignment No. 3"
   ]
  },
  {
   "cell_type": "markdown",
   "id": "22f4d607",
   "metadata": {},
   "source": [
    "    # Question 1: Basic List Operations"
   ]
  },
  {
   "cell_type": "code",
   "execution_count": 1,
   "id": "6cd86262",
   "metadata": {},
   "outputs": [
    {
     "name": "stdout",
     "output_type": "stream",
     "text": [
      "['apple', 'banana', 'orange', 'grape', 'kiwi']\n",
      "<class 'list'>\n"
     ]
    }
   ],
   "source": [
    "#Part A: Create a list named fruits containing the following items: \"apple\", \"banana\", \"orange\", \"grape\", \"kiwi\".\n",
    "\n",
    "fruits = [\"apple\", \"banana\", \"orange\", \"grape\", \"kiwi\"]\n",
    "print (fruits)"
   ]
  },
  {
   "cell_type": "code",
   "execution_count": 2,
   "id": "0f3a01c2",
   "metadata": {},
   "outputs": [
    {
     "name": "stdout",
     "output_type": "stream",
     "text": [
      "['apple', 'banana', 'orange', 'grape', 'kiwi', 'pear']\n"
     ]
    }
   ],
   "source": [
    "#Part B: Add \"pear\" to the end of the list.\n",
    "\n",
    "fruits.append(\"pear\")\n",
    "print (fruits)"
   ]
  },
  {
   "cell_type": "code",
   "execution_count": 4,
   "id": "b8329094",
   "metadata": {},
   "outputs": [
    {
     "name": "stdout",
     "output_type": "stream",
     "text": [
      "['apple', 'mango', 'orange', 'banana', 'orange', 'grape', 'kiwi', 'pear']\n"
     ]
    }
   ],
   "source": [
    "#Part C: Insert \"mango\" at the second position in the list.\n",
    "\n",
    "fruits.insert(1, \"mango\")\n",
    "print (fruits)"
   ]
  },
  {
   "cell_type": "code",
   "execution_count": 5,
   "id": "1ef24743",
   "metadata": {},
   "outputs": [
    {
     "name": "stdout",
     "output_type": "stream",
     "text": [
      "['apple', 'mango', 'banana', 'orange', 'grape', 'kiwi', 'pear']\n"
     ]
    }
   ],
   "source": [
    "#Part D: Remove \"orange\" from the list.\n",
    "\n",
    "fruits.remove(\"orange\")\n",
    "print (fruits)"
   ]
  },
  {
   "cell_type": "markdown",
   "id": "2c8e11a2",
   "metadata": {},
   "source": [
    "    # Question 2: Slicing and Indexing"
   ]
  },
  {
   "cell_type": "code",
   "execution_count": 6,
   "id": "532af732",
   "metadata": {},
   "outputs": [
    {
     "name": "stdout",
     "output_type": "stream",
     "text": [
      "[0, 1, 2, 3, 4, 5, 6, 7, 8]\n"
     ]
    }
   ],
   "source": [
    "#Part A: Create a list named numbers containing the integers from 0 to 9.\n",
    "\n",
    "numbers = list(range(0,9))\n",
    "print (numbers)"
   ]
  },
  {
   "cell_type": "code",
   "execution_count": 7,
   "id": "651fc745",
   "metadata": {},
   "outputs": [
    {
     "name": "stdout",
     "output_type": "stream",
     "text": [
      "3\n"
     ]
    }
   ],
   "source": [
    "#Part B: Print the element at index 3.\n",
    "\n",
    "numbers = list(range(0,9))\n",
    "element_at_index_3 = numbers[3]\n",
    "print (element_at_index_3)"
   ]
  },
  {
   "cell_type": "code",
   "execution_count": 8,
   "id": "18d1a9ea",
   "metadata": {},
   "outputs": [
    {
     "name": "stdout",
     "output_type": "stream",
     "text": [
      "[2, 3, 4]\n"
     ]
    }
   ],
   "source": [
    "#Part C: Print a sublist containing the elements from index 2 to 6 (inclusive).\n",
    "\n",
    "elements_from_index_2_to_6 = numbers[2:5]\n",
    "print (elements_from_index_2_to_6)"
   ]
  },
  {
   "cell_type": "code",
   "execution_count": 9,
   "id": "9a53f398",
   "metadata": {},
   "outputs": [
    {
     "name": "stdout",
     "output_type": "stream",
     "text": [
      "[6, 7, 8]\n"
     ]
    }
   ],
   "source": [
    "#Part D: Print the last three elements using negative indexing.\n",
    "\n",
    "numbers = list(range(0,9))\n",
    "last_three_elements_negative_indexing = numbers[-3:]\n",
    "print (last_three_elements_negative_indexing)"
   ]
  },
  {
   "cell_type": "markdown",
   "id": "603038a6",
   "metadata": {},
   "source": [
    "    # Question 3: List Comprehension"
   ]
  },
  {
   "cell_type": "code",
   "execution_count": 10,
   "id": "c4415962",
   "metadata": {},
   "outputs": [
    {
     "name": "stdout",
     "output_type": "stream",
     "text": [
      "[1, 4, 9, 16, 25, 36, 49, 64, 81, 100]\n"
     ]
    }
   ],
   "source": [
    "#Part A: Create a list named squares using a list comprehension that contains the squares of numbers from 1 to 10.\n",
    "\n",
    "squares = list(range(1,11))\n",
    "\n",
    "for i in range(len(squares)):\n",
    "    squares[i] = squares[i] ** 2\n",
    "print (squares)"
   ]
  },
  {
   "cell_type": "code",
   "execution_count": 11,
   "id": "98da558f",
   "metadata": {},
   "outputs": [
    {
     "name": "stdout",
     "output_type": "stream",
     "text": [
      "[4, 16, 36, 64, 100]\n"
     ]
    }
   ],
   "source": [
    "#Part B: Create a new list named even_squares using a list comprehension that contains the squares of even numbers from the squares list.\n",
    "\n",
    "even_squares = [x ** 2 for x in range(1,11) if x % 2 == 0]\n",
    "print (even_squares)"
   ]
  },
  {
   "cell_type": "markdown",
   "id": "258b29ab",
   "metadata": {},
   "source": [
    "    # Question 4: List Manipulation"
   ]
  },
  {
   "cell_type": "code",
   "execution_count": 12,
   "id": "0b6bfc2c",
   "metadata": {},
   "outputs": [
    {
     "name": "stdout",
     "output_type": "stream",
     "text": [
      "['red', 'green', 'blue', 'yellow', 'purple']\n"
     ]
    }
   ],
   "source": [
    "#Part A: Create a list named colors containing the following items: \"red\", \"green\", \"blue\", \"yellow\", \"purple\".\n",
    "\n",
    "colors = [\"red\", \"green\", \"blue\", \"yellow\", \"purple\"]\n",
    "print (colors)"
   ]
  },
  {
   "cell_type": "code",
   "execution_count": 13,
   "id": "ac42871a",
   "metadata": {},
   "outputs": [
    {
     "name": "stdout",
     "output_type": "stream",
     "text": [
      "['purple', 'green', 'blue', 'yellow', 'red']\n"
     ]
    }
   ],
   "source": [
    "#Part B: Swap the first and last elements of the list.\n",
    "\n",
    "colors[0], colors[-1] = colors[-1], colors[0]\n",
    "print (colors)"
   ]
  },
  {
   "cell_type": "code",
   "execution_count": 14,
   "id": "ca74487f",
   "metadata": {},
   "outputs": [
    {
     "name": "stdout",
     "output_type": "stream",
     "text": [
      "['purple', 'yellow', 'blue', 'green', 'red']\n"
     ]
    }
   ],
   "source": [
    "#Part C: Reverse the order of the list.\n",
    "\n",
    "colors = [\"red\", \"green\", \"blue\", \"yellow\", \"purple\"]\n",
    "colors.reverse()\n",
    "print (colors)"
   ]
  },
  {
   "cell_type": "code",
   "execution_count": 15,
   "id": "6620160a",
   "metadata": {},
   "outputs": [
    {
     "name": "stdout",
     "output_type": "stream",
     "text": [
      "['purple', 'green', 'red']\n"
     ]
    }
   ],
   "source": [
    "#Part D: Remove the second and third elements from the list.\n",
    "\n",
    "colors.remove(\"blue\")\n",
    "colors.remove(\"yellow\")\n",
    "print(colors)"
   ]
  },
  {
   "cell_type": "markdown",
   "id": "00a75b40",
   "metadata": {},
   "source": [
    "    # Question 5: Advance Slicing"
   ]
  },
  {
   "cell_type": "code",
   "execution_count": 16,
   "id": "c4a84af8",
   "metadata": {},
   "outputs": [
    {
     "name": "stdout",
     "output_type": "stream",
     "text": [
      "['a', 'b', 'c', 'd', 'e', 'f', 'g', 'h', 'i', 'j']\n"
     ]
    }
   ],
   "source": [
    "#Part A: Create a list named letters containing the letters from 'a' to 'j'.\n",
    "\n",
    "letters = [x for x in \"abcdefghij\"]\n",
    "print (letters)"
   ]
  },
  {
   "cell_type": "code",
   "execution_count": 17,
   "id": "a74c13a5",
   "metadata": {},
   "outputs": [
    {
     "name": "stdout",
     "output_type": "stream",
     "text": [
      "['a', 'b', 'c', 'd', 'e']\n"
     ]
    }
   ],
   "source": [
    "#Part B: Using slicing, create a new list first_half containing the first half of the letters list.\n",
    "\n",
    "letters = [x for x in \"abcdefghij\"]\n",
    "first_half = letters[:len(letters)//2]\n",
    "print (first_half)"
   ]
  },
  {
   "cell_type": "code",
   "execution_count": 18,
   "id": "81e0b5db",
   "metadata": {},
   "outputs": [
    {
     "name": "stdout",
     "output_type": "stream",
     "text": [
      "['c', 'd', 'e']\n"
     ]
    }
   ],
   "source": [
    "#Part C: Using slicing, create a new list last_three containing the last three elements of the letters list.\n",
    "\n",
    "last_three = first_half[-3:]\n",
    "print (last_three)"
   ]
  },
  {
   "cell_type": "markdown",
   "id": "a4b22957",
   "metadata": {},
   "source": [
    "    # Question 6: Nested Lists"
   ]
  },
  {
   "cell_type": "code",
   "execution_count": 19,
   "id": "f5686ba0",
   "metadata": {},
   "outputs": [
    {
     "name": "stdout",
     "output_type": "stream",
     "text": [
      "[[1, 2, 3], [4, 5, 6], [7, 8, 9]]\n"
     ]
    }
   ],
   "source": [
    "#Part A: Create a nested list named matrix with the following rows:\n",
    "\n",
    "[1, 2, 3]\n",
    "[4, 5, 6]\n",
    "[7, 8, 9]\n",
    "\n",
    "matrix = [[1,2,3],[4,5,6],[7,8,9]]\n",
    "print (matrix)"
   ]
  },
  {
   "cell_type": "code",
   "execution_count": 20,
   "id": "2f65f3c9",
   "metadata": {},
   "outputs": [
    {
     "name": "stdout",
     "output_type": "stream",
     "text": [
      "6\n"
     ]
    }
   ],
   "source": [
    "#Part B: Print the element in the second row and third column.\n",
    "\n",
    "matrix = [[1,2,3],[4,5,6],[7,8,9]]\n",
    "element = (matrix[1][2])\n",
    "print (element)"
   ]
  },
  {
   "cell_type": "code",
   "execution_count": 21,
   "id": "70847409",
   "metadata": {},
   "outputs": [
    {
     "name": "stdout",
     "output_type": "stream",
     "text": [
      "[[1, 2, 3], [0, 5, 6], [7, 8, 9]]\n"
     ]
    }
   ],
   "source": [
    "#Part C: Use nested indexing to change the value at the second row and first column to 0.\n",
    "\n",
    "matrix = [[1,2,3],[4,5,6],[7,8,9]]\n",
    "matrix[1][0] = 0\n",
    "print (matrix)"
   ]
  }
 ],
 "metadata": {
  "kernelspec": {
   "display_name": "Python 3 (ipykernel)",
   "language": "python",
   "name": "python3"
  },
  "language_info": {
   "codemirror_mode": {
    "name": "ipython",
    "version": 3
   },
   "file_extension": ".py",
   "mimetype": "text/x-python",
   "name": "python",
   "nbconvert_exporter": "python",
   "pygments_lexer": "ipython3",
   "version": "3.11.4"
  }
 },
 "nbformat": 4,
 "nbformat_minor": 5
}
